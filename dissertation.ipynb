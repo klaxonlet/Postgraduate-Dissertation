{
  "nbformat": 4,
  "nbformat_minor": 0,
  "metadata": {
    "colab": {
      "name": "dissertation",
      "provenance": [],
      "collapsed_sections": []
    },
    "kernelspec": {
      "name": "python3",
      "display_name": "Python 3"
    }
  },
  "cells": [
    {
      "cell_type": "code",
      "metadata": {
        "id": "lcf-mAuIFPVQ"
      },
      "source": [
        "pip install odfpy"
      ],
      "execution_count": null,
      "outputs": []
    },
    {
      "cell_type": "code",
      "metadata": {
        "id": "_daPy3BcSGvI"
      },
      "source": [
        "pip install --upgrade xgboost"
      ],
      "execution_count": null,
      "outputs": []
    },
    {
      "cell_type": "code",
      "metadata": {
        "id": "5T6SQIhE6Gd0"
      },
      "source": [
        "import pandas as pd\n",
        "import numpy as np\n",
        "%matplotlib inline\n",
        "import matplotlib.pyplot as plt\n",
        "from sklearn.model_selection import train_test_split\n",
        "from sklearn.preprocessing import OrdinalEncoder\n",
        "from xgboost import XGBClassifier\n",
        "from sklearn.metrics import accuracy_score\n",
        "from sklearn.tree import DecisionTreeClassifier\n",
        "from sklearn import tree\n",
        "from sklearn.linear_model import LogisticRegression\n",
        "from sklearn.metrics import confusion_matrix"
      ],
      "execution_count": null,
      "outputs": []
    },
    {
      "cell_type": "code",
      "metadata": {
        "id": "h_50KChc7qvA"
      },
      "source": [
        "data = pd.read_excel(\"bank-additional-full(1).ods\", engine=\"odf\")"
      ],
      "execution_count": null,
      "outputs": []
    },
    {
      "cell_type": "code",
      "metadata": {
        "id": "NJ24iEDH8Fa0"
      },
      "source": [
        "data.hist(bins=50, figsize=(20,15))\n",
        "plt.show()"
      ],
      "execution_count": null,
      "outputs": []
    },
    {
      "cell_type": "code",
      "metadata": {
        "id": "bQrEySWxNE3s"
      },
      "source": [
        "# seperating our target variable from our dataset.\n",
        "data_target = data['y']\n",
        "del data['y']"
      ],
      "execution_count": null,
      "outputs": []
    },
    {
      "cell_type": "code",
      "metadata": {
        "id": "FvyuvUTPWf6c",
        "outputId": "89a8e5e3-8539-4193-b72e-53aa25fca5a1",
        "colab": {
          "base_uri": "https://localhost:8080/",
          "height": 69
        }
      },
      "source": [
        "data_target.value_counts()"
      ],
      "execution_count": null,
      "outputs": [
        {
          "output_type": "execute_result",
          "data": {
            "text/plain": [
              "no     36548\n",
              "yes     4640\n",
              "Name: y, dtype: int64"
            ]
          },
          "metadata": {
            "tags": []
          },
          "execution_count": 7
        }
      ]
    },
    {
      "cell_type": "code",
      "metadata": {
        "id": "N320us4fE1a4"
      },
      "source": [
        "# seperating our categorical variables to 'cat_data' for encoding. \n",
        "# Calling sklearn's OrdinalEncoder as 'encoder'.\n",
        "encoder = OrdinalEncoder()\n",
        "cat_data = data[['Job','Marital','Education','Default(credit)','Housing(loan)','Loan','Contact','Month','day_of_week','poutcome']].copy()"
      ],
      "execution_count": null,
      "outputs": []
    },
    {
      "cell_type": "code",
      "metadata": {
        "id": "xzVVXv-IFEC0",
        "outputId": "e20b20ed-e0e6-4387-981b-913a1f30a5be",
        "colab": {
          "base_uri": "https://localhost:8080/",
          "height": 34
        }
      },
      "source": [
        "# encoding our categorical data. \n",
        "cat_data_encoded = encoder.fit_transform(cat_data)\n",
        "print(type(cat_data_encoded))"
      ],
      "execution_count": null,
      "outputs": [
        {
          "output_type": "stream",
          "text": [
            "<class 'numpy.ndarray'>\n"
          ],
          "name": "stdout"
        }
      ]
    },
    {
      "cell_type": "code",
      "metadata": {
        "id": "eMmNRiw5FNcY"
      },
      "source": [
        "# List of categories for all our categorical variables. Useful for future reference.\n",
        "encoder.categories_"
      ],
      "execution_count": null,
      "outputs": []
    },
    {
      "cell_type": "code",
      "metadata": {
        "id": "5-8BJrawFTYE"
      },
      "source": [
        "# converting numpy array to DataFrame for merging back with data.\n",
        "cat_data_encoded = pd.DataFrame(cat_data_encoded)\n",
        "cat_data_encoded.head()"
      ],
      "execution_count": null,
      "outputs": []
    },
    {
      "cell_type": "code",
      "metadata": {
        "id": "KInn5gCCFTkk"
      },
      "source": [
        "# adding column names \n",
        "cat_data_encoded.columns = ['Job','Marital','Education','Default(credit)','Housing(loan)','Loan','Contact','Month','day_of_week','poutcome']\n",
        "cat_data_encoded.head()"
      ],
      "execution_count": null,
      "outputs": []
    },
    {
      "cell_type": "code",
      "metadata": {
        "id": "CV-484leF1lI"
      },
      "source": [
        "# dropping categorical variables for encoded ones.\n",
        "data.drop(['Job','Marital','Education','Default(credit)','Housing(loan)','Loan','Contact','Month','day_of_week','poutcome'], axis=1, inplace=True)"
      ],
      "execution_count": null,
      "outputs": []
    },
    {
      "cell_type": "code",
      "metadata": {
        "id": "uHof8SGPF1zM"
      },
      "source": [
        "len(cat_data_encoded)"
      ],
      "execution_count": null,
      "outputs": []
    },
    {
      "cell_type": "code",
      "metadata": {
        "id": "Rx1xzjSoF1gc"
      },
      "source": [
        "len(data)"
      ],
      "execution_count": null,
      "outputs": []
    },
    {
      "cell_type": "code",
      "metadata": {
        "id": "OR390XBRKmag"
      },
      "source": [
        "# merging encoded attriutes back with complete data\n",
        "for i in cat_data_encoded.columns:\n",
        "  data[i] = cat_data_encoded[i].values"
      ],
      "execution_count": null,
      "outputs": []
    },
    {
      "cell_type": "code",
      "metadata": {
        "id": "dOAEbVCGNZDU"
      },
      "source": [
        "data.tail(30)"
      ],
      "execution_count": null,
      "outputs": []
    },
    {
      "cell_type": "code",
      "metadata": {
        "id": "1N094OEaM5B4"
      },
      "source": [
        "# Splitting data set into training and testing.\n",
        "data_train, data_test, target_train, target_test = train_test_split(data, data_target, test_size=0.20, random_state=42)"
      ],
      "execution_count": null,
      "outputs": []
    },
    {
      "cell_type": "code",
      "metadata": {
        "id": "rF-l11Tl3zc8",
        "outputId": "e36a0261-8f8e-4112-eac3-24b27ee793a9",
        "colab": {
          "base_uri": "https://localhost:8080/",
          "height": 34
        }
      },
      "source": [
        "len(data_train)"
      ],
      "execution_count": null,
      "outputs": [
        {
          "output_type": "execute_result",
          "data": {
            "text/plain": [
              "32950"
            ]
          },
          "metadata": {
            "tags": []
          },
          "execution_count": 20
        }
      ]
    },
    {
      "cell_type": "code",
      "metadata": {
        "id": "LGHqBnUoI5wc"
      },
      "source": [
        "# First model using XGBoost\n",
        "model_xg = XGBClassifier()\n",
        "model_xg.fit(data_train, target_train)"
      ],
      "execution_count": null,
      "outputs": []
    },
    {
      "cell_type": "code",
      "metadata": {
        "id": "6qQ07YzH_JjY"
      },
      "source": [
        "prediction_xg = model_xg.predict(data_test)"
      ],
      "execution_count": null,
      "outputs": []
    },
    {
      "cell_type": "code",
      "metadata": {
        "id": "uevZb-yV_c9k",
        "outputId": "7d02d85b-106d-415d-b780-886f3d6750b2",
        "colab": {
          "base_uri": "https://localhost:8080/",
          "height": 34
        }
      },
      "source": [
        "accuracy_xg = accuracy_score(target_test, prediction_xg)\n",
        "accuracy_xg"
      ],
      "execution_count": null,
      "outputs": [
        {
          "output_type": "execute_result",
          "data": {
            "text/plain": [
              "0.9147851420247632"
            ]
          },
          "metadata": {
            "tags": []
          },
          "execution_count": 23
        }
      ]
    },
    {
      "cell_type": "code",
      "metadata": {
        "id": "6hn69BSzUz3Y"
      },
      "source": [
        "# Second model using Decision Tree\n",
        "model_dt = DecisionTreeClassifier(random_state=42)\n",
        "model_dt.fit(data_train, target_train)\n"
      ],
      "execution_count": null,
      "outputs": []
    },
    {
      "cell_type": "code",
      "metadata": {
        "id": "Zrm4IfctVr0o",
        "outputId": "cf4bb382-8371-4159-ed91-01724aa81686",
        "colab": {
          "base_uri": "https://localhost:8080/",
          "height": 34
        }
      },
      "source": [
        "prediction_dt = model_dt.predict(data_test)\n",
        "accuracy_dt = accuracy_score(target_test, prediction_dt)\n",
        "accuracy_dt"
      ],
      "execution_count": null,
      "outputs": [
        {
          "output_type": "execute_result",
          "data": {
            "text/plain": [
              "0.8909929594561787"
            ]
          },
          "metadata": {
            "tags": []
          },
          "execution_count": 25
        }
      ]
    },
    {
      "cell_type": "code",
      "metadata": {
        "id": "FZj3dCo_Xc3A"
      },
      "source": [
        "# Second model using Logistic Regression\n",
        "model_lr = LogisticRegression(random_state=42)\n",
        "model_lr.fit(data_train, target_train)"
      ],
      "execution_count": null,
      "outputs": []
    },
    {
      "cell_type": "code",
      "metadata": {
        "id": "PPsK2JXLX1kQ",
        "outputId": "436b9f8e-8192-4933-d108-a0722e52eaf4",
        "colab": {
          "base_uri": "https://localhost:8080/",
          "height": 34
        }
      },
      "source": [
        "prediction_lr = model_lr.predict(data_test)\n",
        "accuracy_lr = accuracy_score(target_test, prediction_lr)\n",
        "accuracy_lr"
      ],
      "execution_count": null,
      "outputs": [
        {
          "output_type": "execute_result",
          "data": {
            "text/plain": [
              "0.9090798737557659"
            ]
          },
          "metadata": {
            "tags": []
          },
          "execution_count": 27
        }
      ]
    },
    {
      "cell_type": "code",
      "metadata": {
        "id": "0N7xpWxR_BmU"
      },
      "source": [
        "con_matrix_xg = confusion_matrix(target_test, prediction_xg)\n",
        "con_matrix_dt = confusion_matrix(target_test, prediction_dt)\n",
        "con_matrix_lr = confusion_matrix(target_test, prediction_lr)"
      ],
      "execution_count": null,
      "outputs": []
    },
    {
      "cell_type": "code",
      "metadata": {
        "id": "bgY8B_suB1bs"
      },
      "source": [
        "tn_dt, fp_dt, fn_dt, tp_dt = confusion_matrix(target_test,prediction_dt).ravel()\n",
        "tn_xg, fp_xg, fn_xg, tp_xg = confusion_matrix(target_test,prediction_xg).ravel()\n",
        "tn_lr, fp_lr, fn_lr, tp_lr = confusion_matrix(target_test,prediction_lr).ravel()"
      ],
      "execution_count": null,
      "outputs": []
    },
    {
      "cell_type": "code",
      "metadata": {
        "id": "050ZXoRl5jBk",
        "outputId": "54d543ef-f17e-4360-b5c8-31e219850ddd",
        "colab": {
          "base_uri": "https://localhost:8080/",
          "height": 52
        }
      },
      "source": [
        "con_matrix_xg"
      ],
      "execution_count": null,
      "outputs": [
        {
          "output_type": "execute_result",
          "data": {
            "text/plain": [
              "array([[7018,  285],\n",
              "       [ 417,  518]])"
            ]
          },
          "metadata": {
            "tags": []
          },
          "execution_count": 33
        }
      ]
    },
    {
      "cell_type": "code",
      "metadata": {
        "id": "QMphLOFF8SXc",
        "outputId": "45d3761f-9b24-4420-c6e9-3ffe2019183e",
        "colab": {
          "base_uri": "https://localhost:8080/",
          "height": 52
        }
      },
      "source": [
        "con_matrix_dt"
      ],
      "execution_count": null,
      "outputs": [
        {
          "output_type": "execute_result",
          "data": {
            "text/plain": [
              "array([[6857,  446],\n",
              "       [ 452,  483]])"
            ]
          },
          "metadata": {
            "tags": []
          },
          "execution_count": 34
        }
      ]
    },
    {
      "cell_type": "code",
      "metadata": {
        "id": "utdeCigm8Sj8",
        "outputId": "45ee7059-bc83-4dbc-bb37-9498f68fc6c7",
        "colab": {
          "base_uri": "https://localhost:8080/",
          "height": 52
        }
      },
      "source": [
        "con_matrix_lr"
      ],
      "execution_count": null,
      "outputs": [
        {
          "output_type": "execute_result",
          "data": {
            "text/plain": [
              "array([[7106,  197],\n",
              "       [ 552,  383]])"
            ]
          },
          "metadata": {
            "tags": []
          },
          "execution_count": 35
        }
      ]
    },
    {
      "cell_type": "code",
      "metadata": {
        "id": "btBoJpSKlV6c"
      },
      "source": [
        "# Resampling \n",
        "data_resample = pd.concat([data_train, target_train], axis=1)"
      ],
      "execution_count": null,
      "outputs": []
    },
    {
      "cell_type": "code",
      "metadata": {
        "id": "kHB27efVl-r0"
      },
      "source": [
        "deposit_yes = data_resample[data_resample.y=='yes']\n",
        "deposit_no = data_resample[data_resample.y=='no']"
      ],
      "execution_count": null,
      "outputs": []
    },
    {
      "cell_type": "code",
      "metadata": {
        "id": "_DjC49SZnzXA",
        "outputId": "a279f65f-a950-48e2-8876-76d92de491d6",
        "colab": {
          "base_uri": "https://localhost:8080/",
          "height": 52
        }
      },
      "source": [
        "deposit_yes.y.value_counts()"
      ],
      "execution_count": null,
      "outputs": [
        {
          "output_type": "execute_result",
          "data": {
            "text/plain": [
              "yes    3705\n",
              "Name: y, dtype: int64"
            ]
          },
          "metadata": {
            "tags": []
          },
          "execution_count": 39
        }
      ]
    },
    {
      "cell_type": "code",
      "metadata": {
        "id": "hEsSR6K0mfQM"
      },
      "source": [
        "# upsample minority\n",
        "from sklearn.utils import resample\n",
        "deposit_yes_upsampled = resample(deposit_yes,\n",
        "                          replace=True, # sample with replacement\n",
        "                          n_samples=len(deposit_no), # match number in majority class\n",
        "                          random_state=42) # reproducible results"
      ],
      "execution_count": null,
      "outputs": []
    },
    {
      "cell_type": "code",
      "metadata": {
        "id": "m5ZL2kjlnjfY",
        "outputId": "e660d5b6-1bdd-4a74-b4ba-ba8b594a41b8",
        "colab": {
          "base_uri": "https://localhost:8080/",
          "height": 69
        }
      },
      "source": [
        "print(deposit_no.y.value_counts(),deposit_yes_upsampled.y.value_counts())"
      ],
      "execution_count": null,
      "outputs": [
        {
          "output_type": "stream",
          "text": [
            "no    29245\n",
            "Name: y, dtype: int64 yes    29245\n",
            "Name: y, dtype: int64\n"
          ],
          "name": "stdout"
        }
      ]
    },
    {
      "cell_type": "code",
      "metadata": {
        "id": "74IL0gLtpqKI"
      },
      "source": [
        "# combining the two\n",
        "upsampled_final = pd.concat([deposit_no, deposit_yes_upsampled])"
      ],
      "execution_count": null,
      "outputs": []
    },
    {
      "cell_type": "code",
      "metadata": {
        "id": "YVTITrpjqRnI",
        "outputId": "b5210a4a-6162-4cea-d814-f1a98f9d525b",
        "colab": {
          "base_uri": "https://localhost:8080/",
          "height": 69
        }
      },
      "source": [
        "upsampled_final.y.value_counts()"
      ],
      "execution_count": null,
      "outputs": [
        {
          "output_type": "execute_result",
          "data": {
            "text/plain": [
              "yes    29245\n",
              "no     29245\n",
              "Name: y, dtype: int64"
            ]
          },
          "metadata": {
            "tags": []
          },
          "execution_count": 43
        }
      ]
    },
    {
      "cell_type": "code",
      "metadata": {
        "id": "rKrgbAoxqgoE"
      },
      "source": [
        "upsampled_y = upsampled_final.y\n",
        "upsampled_x = upsampled_final.drop('y', axis=1)"
      ],
      "execution_count": null,
      "outputs": []
    },
    {
      "cell_type": "code",
      "metadata": {
        "id": "BLDb_b2EokI4"
      },
      "source": [
        "#  model using XGBoost on RESAMPLED DATA\n",
        "model_xg_resample = XGBClassifier()\n",
        "model_xg_resample.fit(upsampled_x, upsampled_y)"
      ],
      "execution_count": null,
      "outputs": []
    },
    {
      "cell_type": "code",
      "metadata": {
        "id": "KQeCk5dhrMTY"
      },
      "source": [
        "prediction_xg_resample = model_xg_resample.predict(data_test)"
      ],
      "execution_count": null,
      "outputs": []
    },
    {
      "cell_type": "code",
      "metadata": {
        "id": "5sIYN9ayrQpg",
        "outputId": "5523116e-df9a-4b20-bcfd-b215ff9d97dc",
        "colab": {
          "base_uri": "https://localhost:8080/",
          "height": 34
        }
      },
      "source": [
        "accuracy_xg_resample = accuracy_score(target_test, prediction_xg_resample)\n",
        "accuracy_xg_resample"
      ],
      "execution_count": null,
      "outputs": [
        {
          "output_type": "execute_result",
          "data": {
            "text/plain": [
              "0.8820101966496723"
            ]
          },
          "metadata": {
            "tags": []
          },
          "execution_count": 47
        }
      ]
    },
    {
      "cell_type": "code",
      "metadata": {
        "id": "J9NkV08jrZcA"
      },
      "source": [
        "tn_xg_r, fp_xg_r, fn_xg_r, tp_xg_r = confusion_matrix(target_test,prediction_xg_resample).ravel()"
      ],
      "execution_count": null,
      "outputs": []
    },
    {
      "cell_type": "code",
      "metadata": {
        "id": "sVDJqPOornmQ",
        "outputId": "ddaa6cfc-2e01-4dfb-aa82-63df8a2592e1",
        "colab": {
          "base_uri": "https://localhost:8080/",
          "height": 34
        }
      },
      "source": [
        "print(tn_xg_r,fp_xg_r,fn_xg_r,tp_xg_r)"
      ],
      "execution_count": null,
      "outputs": [
        {
          "output_type": "stream",
          "text": [
            "6484 819 153 782\n"
          ],
          "name": "stdout"
        }
      ]
    }
  ]
}